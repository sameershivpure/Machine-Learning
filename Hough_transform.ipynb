{
 "cells": [
  {
   "cell_type": "code",
   "execution_count": 1,
   "metadata": {
    "collapsed": true
   },
   "outputs": [],
   "source": [
    "# Shivpure, Sameer\n",
    "# 1001-417-543\n",
    "# 2017-02-20\n",
    "# Assignment_02_01"
   ]
  },
  {
   "cell_type": "code",
   "execution_count": 2,
   "metadata": {
    "collapsed": true
   },
   "outputs": [],
   "source": [
    "import numpy as np\n",
    "from matplotlib import pyplot as plt\n",
    "from skimage import data\n",
    "from ipywidgets import interact, fixed, IntSlider,IntRangeSlider, Label\n",
    "from IPython.display import display\n",
    "import cv2 as cv"
   ]
  },
  {
   "cell_type": "markdown",
   "metadata": {},
   "source": [
    "## Hough lines function"
   ]
  },
  {
   "cell_type": "code",
   "execution_count": 9,
   "metadata": {
    "collapsed": false
   },
   "outputs": [],
   "source": [
    "def my_HoughLines(input_image,rho_resolution,theta_resolution,threshold):\n",
    "    \n",
    "    hlines = []\n",
    "    max_rho = np.ceil(np.hypot(input_image.shape[0], input_image.shape[1]))\n",
    "    drho = max_rho/rho_resolution\n",
    "    dtheta = 180/theta_resolution\n",
    "    r = np.linspace(-max_rho,max_rho,rho_resolution)\n",
    "    \n",
    "    accumalator = np.zeros((rho_resolution, theta_resolution))\n",
    "    theta = np.linspace(-90,90,theta_resolution)\n",
    "    \n",
    "    edge_image  = cv.Canny(input_image,100,150,apertureSize =3)\n",
    "    cos_th = np.cos(np.deg2rad(theta))\n",
    "    sin_th = np.sin(np.deg2rad(theta))\n",
    "    \n",
    "    for y_index, row in enumerate(edge_image):\n",
    "        for x_index, edge in enumerate(row):\n",
    "                if(edge):\n",
    "                    rho = x_index*cos_th + y_index*sin_th\n",
    "                    rho = (rho / drho )\n",
    "                    accumalator[np.floor(rho).astype(int),np.round(theta/ dtheta).astype(int)-1] += 1\n",
    "                    \n",
    "    \n",
    "    for rho_index, accu_row in enumerate(accumalator):\n",
    "        for theta_index, accu_value in enumerate(accu_row):\n",
    "            if accu_value >=threshold:\n",
    "                #hlines.append([rho_index*drho,theta_index*dtheta])\n",
    "                hlines.append([r[rho_index]+rho_resolution/2,theta[theta_index]*dtheta])\n",
    "                \n",
    "    return np.array(hlines)"
   ]
  },
  {
   "cell_type": "markdown",
   "metadata": {},
   "source": [
    "## Task 1"
   ]
  },
  {
   "cell_type": "code",
   "execution_count": 10,
   "metadata": {
    "collapsed": false
   },
   "outputs": [
    {
     "data": {
      "image/png": "[encoded data removed]",
      "text/plain": [
       "<matplotlib.figure.Figure at 0x7f66d56e7fd0>"
      ]
     },
     "metadata": {},
     "output_type": "display_data"
    }
   ],
   "source": [
    "def houghLines_detector(input_image,rho_resolution,theta_resolution,threshold):\n",
    "    gray_input_image  = cv.cvtColor( input_image, cv.COLOR_RGB2GRAY )\n",
    "    output_image = input_image.copy()\n",
    "    cvoutput_image =  input_image.copy()\n",
    "    max_size=max(input_image.shape[0], input_image.shape[1])**2 \n",
    "    lines = my_HoughLines(gray_input_image,rho_resolution,theta_resolution,threshold)\n",
    "    for rho_theta in lines:\n",
    "        rho=rho_theta[0]\n",
    "        theta=rho_theta[1]\n",
    "        a = np.cos(np.deg2rad(theta))\n",
    "        b = np.sin(np.deg2rad(theta))\n",
    "        x0 = a*rho\n",
    "        y0 = b*rho\n",
    "        x1 = int(x0 + max_size*(-b))\n",
    "        y1 = int(y0 + max_size*(a))\n",
    "        x2 = int(x0 - max_size*(-b))\n",
    "        y2 = int(y0 - max_size*(a))\n",
    "        cv.line(output_image,(x1,y1),(x2,y2),(255,0,0),1)\n",
    "    \n",
    "    edges = cv.Canny(gray_input_image,100,150,apertureSize =3)\n",
    "    cvlines = cv.HoughLines(edges,np.hypot(input_image.shape[0], input_image.shape[1])/rho_resolution,360/theta_resolution,threshold)\n",
    "    \n",
    "    for rho_theta in cvlines:\n",
    "        rho=rho_theta[0][0]\n",
    "        theta=rho_theta[0][1]\n",
    "        a = np.cos(theta)\n",
    "        b = np.sin(theta)\n",
    "        x0 = a*rho\n",
    "        y0 = b*rho\n",
    "        x1 = int(x0 + max_size*(-b))\n",
    "        y1 = int(y0 + max_size*(a))\n",
    "        x2 = int(x0 - max_size*(-b))\n",
    "        y2 = int(y0 - max_size*(a))\n",
    "        cv.line(cvoutput_image,(x1,y1),(x2,y2),(255,0,0),1)\n",
    "    fig1, ax1 = plt.subplots(1,3)\n",
    "    fig1.set_size_inches(10,5)\n",
    "    ax1[0].imshow(input_image)\n",
    "    ax1[0].axis('off')\n",
    "    ax1[0].set(title='Original image')\n",
    "    ax1[1].imshow(output_image)\n",
    "    ax1[1].axis('off')\n",
    "    ax1[1].set(title='My hough lines')\n",
    "    ax1[2].imshow(cvoutput_image)\n",
    "    ax1[2].axis('off')\n",
    "    ax1[2].set(title='Opencv hough lines')\n",
    "    plt.show()\n",
    "\n",
    "original_image = cv.imread('test01.png')\n",
    "\n",
    "interact(houghLines_detector, input_image= fixed(original_image), rho_resolution=IntSlider(min=10, max=1000, value=100, continuous_update=False),\\\n",
    "                      theta_resolution=IntSlider(min=10, max=1000, value=360, continuous_update=False),\\\n",
    "                      threshold=IntSlider(min=5, max=1000, value=20, continuous_update=False));"
   ]
  },
  {
   "cell_type": "markdown",
   "metadata": {},
   "source": [
    "## Hough circles function"
   ]
  },
  {
   "cell_type": "code",
   "execution_count": 5,
   "metadata": {
    "collapsed": false
   },
   "outputs": [],
   "source": [
    "def my_HoughCircles(input_image, resolution, threshold, min_radius, max_radius):\n",
    "    \n",
    "    hpoints = []\n",
    "    max_rho = np.ceil(np.hypot(input_image.shape[0], input_image.shape[1]))\n",
    "    drho = max_rho/resolution\n",
    "    accumalator = np.zeros((resolution, resolution, resolution))\n",
    "    theta = np.linspace(0,359,resolution)\n",
    "    rad = np.linspace(min_radius, max_radius, resolution)\n",
    "    \n",
    "    edge_image  = cv.Canny(input_image,50,150,apertureSize =3)\n",
    "    cos_th = np.cos(np.deg2rad(theta))\n",
    "    sin_th = np.sin(np.deg2rad(theta))\n",
    "    \n",
    "    for y_index, row in enumerate(edge_image):\n",
    "        for x_index, edge in enumerate(row):\n",
    "                if(edge):\n",
    "                    center_x = (x_index - rad*cos_th)/drho\n",
    "                    center_y = (y_index - rad*sin_th)/drho\n",
    "                    accumalator[np.floor(center_x).astype(int),np.floor(center_y).astype(int), np.ceil(rad/drho).astype(int)] += 1\n",
    "                        \n",
    "    for ax_index, accu_x in enumerate(accumalator):\n",
    "        for ay_index, accu_y in enumerate(accu_x):\n",
    "            for ar_index, accu_value in enumerate(accu_y):\n",
    "                if accu_value >=threshold:\n",
    "                    hpoints.append([ax_index*drho,ay_index*drho, ar_index*drho])\n",
    "    \n",
    "    return np.array(hpoints)"
   ]
  },
  {
   "cell_type": "markdown",
   "metadata": {},
   "source": [
    "## Task 2"
   ]
  },
  {
   "cell_type": "code",
   "execution_count": 6,
   "metadata": {
    "collapsed": false
   },
   "outputs": [
    {
     "data": {
      "image/png": "[encoded data removed]",
      "text/plain": [
       "<matplotlib.figure.Figure at 0x7f66d5805668>"
      ]
     },
     "metadata": {},
     "output_type": "display_data"
    }
   ],
   "source": [
    "def houghCircles_detector(input_image,resolution,threshold,radius):\n",
    "    gray_input_image  = cv.cvtColor( input_image, cv.COLOR_RGB2GRAY )\n",
    "    output_image = input_image.copy()\n",
    "    cvoutput_image =  input_image.copy()\n",
    "    max_size=max(input_image.shape[0], input_image.shape[1])**2 \n",
    "    circles = my_HoughCircles(gray_input_image,resolution, threshold, radius[0], radius[1])\n",
    "    circles = np.uint16(np.around(circles))\n",
    "    for i in circles:\n",
    "        cv.circle(output_image,(i[0],i[1]),i[2],(255,0,0),1)\n",
    "        cv.circle(output_image,(i[0],i[1]),2,(0,0,255),3)\n",
    "    \n",
    "    hcircles = cv.HoughCircles(gray_input_image,cv.HOUGH_GRADIENT,1,threshold,param1=150,param2=50,minRadius=radius[0],maxRadius=radius[1])\n",
    "    hcircles = np.uint16(np.around(hcircles))\n",
    "    for i in hcircles[0,:]:\n",
    "        cv.circle(cvoutput_image,(i[0],i[1]),i[2],(255,0,0),1)\n",
    "        cv.circle(cvoutput_image,(i[0],i[1]),2,(0,0,255),3)\n",
    "    fig2, ax2 = plt.subplots(1,3)\n",
    "    fig2.set_size_inches(10,7)\n",
    "    ax2[0].imshow(input_image)\n",
    "    ax2[0].axis('off')\n",
    "    ax2[0].set(title='Original image')\n",
    "    ax2[1].imshow(output_image)\n",
    "    ax2[1].axis('off')\n",
    "    ax2[1].set(title='My hough circles')\n",
    "    ax2[2].imshow(cvoutput_image)\n",
    "    ax2[2].axis('off')\n",
    "    ax2[2].set(title='Opencv hough circles')\n",
    "    plt.show()\n",
    "\n",
    "\n",
    "original_image = cv.imread('testImage.png')\n",
    "\n",
    "interact(houghCircles_detector, input_image= fixed(original_image), resolution=IntSlider(min=10, max=1000, value=100, continuous_update=False),\\\n",
    "         threshold=IntSlider(min=5, max=1000, value=20, continuous_update=False), \\\n",
    "         radius=IntRangeSlider(min=5, max=100, value=[20,50], continuous_update=False));"
   ]
  }
 ],
 "metadata": {
  "anaconda-cloud": {},
  "kernelspec": {
   "display_name": "Python [conda root]",
   "language": "python",
   "name": "conda-root-py"
  },
  "language_info": {
   "codemirror_mode": {
    "name": "ipython",
    "version": 3
   },
   "file_extension": ".py",
   "mimetype": "text/x-python",
   "name": "python",
   "nbconvert_exporter": "python",
   "pygments_lexer": "ipython3",
   "version": "3.5.2"
  },
  "widgets": {
   "state": {
    "a8a09f67fb054ee4a1df0f5b9a922feb": {
     "views": [
      {
       "cell_index": 9
      }
     ]
    },
    "a9501bd8dd424b91964f82fa81802e20": {
     "views": [
      {
       "cell_index": 5
      }
     ]
    }
   },
   "version": "1.2.0"
  }
 },
 "nbformat": 4,
 "nbformat_minor": 1
}
